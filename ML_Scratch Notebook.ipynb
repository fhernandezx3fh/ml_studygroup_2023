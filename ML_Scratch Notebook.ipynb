{
 "cells": [
  {
   "cell_type": "code",
   "execution_count": 31,
   "metadata": {},
   "outputs": [
    {
     "name": "stdout",
     "output_type": "stream",
     "text": [
      "<class 'zip'>\n",
      "Zipped list z: [(1, 6), (0, 2), (0, 2)]\n",
      "[]\n"
     ]
    },
    {
     "data": {
      "text/plain": [
       "6"
      ]
     },
     "execution_count": 31,
     "metadata": {},
     "output_type": "execute_result"
    }
   ],
   "source": [
    "'''\n",
    "Suppose the weekend is coming up, and you've heard that there's going to be a cheese festival in your city. \n",
    "You like cheese, and are trying to decide whether or not to go to the festival. \n",
    "You might make your decision by weighing up three factors:\n",
    "\n",
    "    Is the weather good?\n",
    "    Does your boyfriend or girlfriend want to accompany you?\n",
    "    Is the festival near public transit? (You don't own a car). \n",
    "\n",
    "We can represent these three factors by corresponding binary variables x1,x2, and x3\n",
    "\n",
    "Now, suppose you absolutely adore cheese, so much so that you're happy to go to the festival \n",
    "even if your boyfriend or girlfriend is uninterested and the festival is hard to get to. \n",
    "But perhaps you really loathe bad weather, and there's no way you'd go to the festival if the weather is bad. \n",
    "You can use perceptrons to model this kind of decision-making. \n",
    "\n",
    "One way to do this is to choose a weight w1=6 for the weather, and w2=2 and w3=2 for the other conditions. \n",
    "The larger value of w1 indicates that the weather matters a lot to you, \n",
    "much more than whether your boyfriend or girlfriend joins you, or the nearness of public transit. \n",
    "\n",
    "Finally, suppose you choose a threshold of 5 for the perceptron.\n",
    "'''\n",
    "\n",
    "x=[1, 0, 0]\n",
    "w=[6, 2, 2]\n",
    "\n",
    "threshold=5\n",
    "\n",
    "# Zip the lists together\n",
    "z=zip(x,w)          # Zip object\n",
    "\n",
    "print (type(z))\n",
    "\n",
    "z_list=list(z)      \n",
    "print(\"Zipped list z: \" + str(z_list))\n",
    "\n",
    "zipped=list(z)\n",
    "print(zipped)\n",
    "\n",
    "# [a*b for a,b in zip(lista,listb)]\n",
    "# sum([x ** 2 for x in range(1, 6)])\n",
    "\n",
    "sum([a*b for a,b in z_list])"
   ]
  },
  {
   "cell_type": "code",
   "execution_count": null,
   "metadata": {},
   "outputs": [],
   "source": []
  }
 ],
 "metadata": {
  "kernelspec": {
   "display_name": "Python 3",
   "language": "python",
   "name": "python3"
  },
  "language_info": {
   "codemirror_mode": {
    "name": "ipython",
    "version": 3
   },
   "file_extension": ".py",
   "mimetype": "text/x-python",
   "name": "python",
   "nbconvert_exporter": "python",
   "pygments_lexer": "ipython3",
   "version": "3.7.1"
  }
 },
 "nbformat": 4,
 "nbformat_minor": 2
}
